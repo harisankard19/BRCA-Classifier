{
 "cells": [
  {
   "cell_type": "code",
   "execution_count": 1,
   "id": "de61a461",
   "metadata": {},
   "outputs": [
    {
     "name": "stdout",
     "output_type": "stream",
     "text": [
      "X_train_scaled is of <class 'numpy.ndarray'> type\n"
     ]
    }
   ],
   "source": [
    "#Dependencies\n",
    "import torch\n",
    "import torch.nn as nn\n",
    "import torch.optim as optim\n",
    "from sklearn.datasets import load_breast_cancer\n",
    "from sklearn.model_selection import train_test_split\n",
    "from sklearn.preprocessing import StandardScaler\n",
    "\n",
    "\n",
    "\n",
    "#data loading\n",
    "data = load_breast_cancer()\n",
    "X = data.data\n",
    "y = data.target\n",
    "#print(X)\n",
    "#print(y[:5])\n",
    "\n",
    "\n",
    "\n",
    "\n",
    "#train test split\n",
    "X_train, X_test, y_train, y_test = train_test_split(X,y,test_size=0.2, random_state=42)\n",
    "#print(X_train.shape, X_test.shape)\n",
    "#print(y_train.shape, y_test.shape)\n",
    "\n",
    "\n",
    "\n",
    "\n",
    "#standardising\n",
    "scaler = StandardScaler()\n",
    "X_train= scaler.fit_transform(X_train)\n",
    "X_test= scaler.transform(X_test)\n",
    "typex = type(X_train)\n",
    "print(\"X_train_scaled is of\", typex, \"type\")\n",
    "\n"
   ]
  },
  {
   "cell_type": "code",
   "execution_count": 2,
   "id": "db0bef55",
   "metadata": {},
   "outputs": [],
   "source": [
    "#Convert normal data to pytorch tensor data and point it to colab's gpu\n",
    "\n",
    "X_train = torch.tensor(X_train, dtype = torch.float32)\n",
    "X_test = torch.tensor(X_test, dtype = torch.float32)\n",
    "y_train = torch.tensor(y_train, dtype = torch.float32)\n",
    "y_test = torch.tensor(y_test, dtype = torch.float32)\n"
   ]
  },
  {
   "cell_type": "code",
   "execution_count": 3,
   "id": "dbe87798",
   "metadata": {},
   "outputs": [],
   "source": [
    "# NN Arch\n",
    "\n",
    "class neural_network(nn.Module):\n",
    " \n",
    "  def __init__(self, input_size, hidden_size, output_size):\n",
    "    super(neural_network, self).__init__()\n",
    "    self.fc1 = nn.Linear(input_size, hidden_size)\n",
    "    self.relu = nn.ReLU()\n",
    "    self.fc2 = nn.Linear(hidden_size, output_size)\n",
    "    self.sigmoid = nn.Sigmoid()\n",
    "  \n",
    "  def forward(self, x):\n",
    "    out = self.fc1(x)\n",
    "    out = self.relu (out)\n",
    "    out = self.fc2(out)\n",
    "    out = self.sigmoid(out)\n",
    "    return out\n",
    "  "
   ]
  },
  {
   "cell_type": "code",
   "execution_count": 4,
   "id": "9032734c",
   "metadata": {},
   "outputs": [],
   "source": [
    "# parameters:\n",
    "\n",
    "input_size = X_train.shape[1]\n",
    "hidden_size = 64\n",
    "output_size = 1 #only 1 op is expected\n",
    "learning_rate = 0.001\n",
    "number_epoch = 100"
   ]
  },
  {
   "cell_type": "code",
   "execution_count": 5,
   "id": "feea5bfe",
   "metadata": {},
   "outputs": [],
   "source": [
    "# initialise model\n",
    "\n",
    "model = neural_network(input_size, hidden_size, output_size)"
   ]
  },
  {
   "cell_type": "code",
   "execution_count": 6,
   "id": "4ae57899",
   "metadata": {},
   "outputs": [],
   "source": [
    "#define loss and optimiser\n",
    "\n",
    "criterion = nn.BCELoss()\n",
    "optimizer = optim.Adam(model.parameters(), lr = learning_rate)"
   ]
  },
  {
   "cell_type": "code",
   "execution_count": 7,
   "id": "93ea508c",
   "metadata": {},
   "outputs": [
    {
     "name": "stdout",
     "output_type": "stream",
     "text": [
      "Epoch [10/100], Loss : 0.5422, Train Accuracy : 90.77%\n",
      "Epoch [20/100], Loss : 0.4194, Train Accuracy : 91.87%\n",
      "Epoch [30/100], Loss : 0.3280, Train Accuracy : 93.19%\n",
      "Epoch [40/100], Loss : 0.2613, Train Accuracy : 94.73%\n",
      "Epoch [50/100], Loss : 0.2142, Train Accuracy : 94.95%\n",
      "Epoch [60/100], Loss : 0.1812, Train Accuracy : 95.38%\n",
      "Epoch [70/100], Loss : 0.1576, Train Accuracy : 96.26%\n",
      "Epoch [80/100], Loss : 0.1401, Train Accuracy : 97.36%\n",
      "Epoch [90/100], Loss : 0.1266, Train Accuracy : 97.36%\n",
      "Epoch [100/100], Loss : 0.1159, Train Accuracy : 97.36%\n"
     ]
    }
   ],
   "source": [
    "#Training NN\n",
    "\n",
    "for epoch in range(number_epoch):\n",
    "    model.train()\n",
    "    optimizer.zero_grad() \n",
    "    outputs = model(X_train)\n",
    "    loss = criterion(outputs, y_train.view(-1,1))\n",
    "    loss.backward()\n",
    "    optimizer.step()\n",
    "\n",
    "    # accuracy\n",
    "    with torch.no_grad():\n",
    "        predicted = outputs.round()\n",
    "        correct = (predicted == y_train.view(-1,1)).float().sum()\n",
    "        accuracy = correct/y_train.size(0)\n",
    "    \n",
    "    if (epoch + 1) % 10 == 0: #how each epoch runs\n",
    "        print(f\"Epoch [{epoch+1}/{number_epoch}], Loss : {loss.item():.4f}, Train Accuracy : {accuracy.item()*100:.2f}%\")\n"
   ]
  },
  {
   "cell_type": "code",
   "execution_count": 8,
   "id": "74b96090",
   "metadata": {},
   "outputs": [
    {
     "name": "stdout",
     "output_type": "stream",
     "text": [
      "Accuracy on testing data: 97.37%\n"
     ]
    }
   ],
   "source": [
    "#evaluation:\n",
    "\n",
    "model.eval()\n",
    "\n",
    "with torch.no_grad():\n",
    "    outputs = model(X_test)\n",
    "    predicted = outputs.round()\n",
    "    correct = (predicted == y_test.view(-1,1)).float().sum()\n",
    "    accuracy = correct/y_test.size(0)\n",
    "    print(f\"Accuracy on testing data: {accuracy.item() * 100:.2f}%\")"
   ]
  },
  {
   "cell_type": "code",
   "execution_count": 9,
   "id": "6215ae26",
   "metadata": {},
   "outputs": [],
   "source": [
    "torch.save(model.state_dict(), \"brca_NN_pytorch.pth\")\n"
   ]
  },
  {
   "cell_type": "code",
   "execution_count": null,
   "id": "94cf8047",
   "metadata": {},
   "outputs": [],
   "source": [
    "# loading\n",
    "\n",
    "model2 = neural_network(input_size, hidden_size, output_size)\n",
    "model2.load_state_dict(torch.load(\"brca_NN_pytorch.pth\"))\n",
    "model2.eval()"
   ]
  }
 ],
 "metadata": {
  "kernelspec": {
   "display_name": "base",
   "language": "python",
   "name": "python3"
  },
  "language_info": {
   "codemirror_mode": {
    "name": "ipython",
    "version": 3
   },
   "file_extension": ".py",
   "mimetype": "text/x-python",
   "name": "python",
   "nbconvert_exporter": "python",
   "pygments_lexer": "ipython3",
   "version": "3.12.3"
  }
 },
 "nbformat": 4,
 "nbformat_minor": 5
}

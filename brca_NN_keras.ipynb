{
  "cells": [
    {
      "cell_type": "code",
      "execution_count": null,
      "metadata": {
        "id": "whhqu7cqTmSr"
      },
      "outputs": [],
      "source": [
        "import pandas as pd\n",
        "import numpy as np\n",
        "import sklearn.datasets\n",
        "from sklearn.model_selection import train_test_split\n",
        "from sklearn.linear_model import LogisticRegression\n",
        "from sklearn.metrics import accuracy_score"
      ]
    },
    {
      "cell_type": "code",
      "execution_count": null,
      "metadata": {
        "colab": {
          "base_uri": "https://localhost:8080/",
          "height": 273
        },
        "id": "EdvzzpXgUTDX",
        "outputId": "54840be6-18eb-4fde-97ea-7a8f66d89bc5"
      },
      "outputs": [],
      "source": [
        "df = pd.read_csv(r\"D:\\Projects\\brca\\data\\fineneedleaspirationData.csv\")\n",
        "df.head()"
      ]
    },
    {
      "cell_type": "code",
      "execution_count": null,
      "metadata": {
        "colab": {
          "base_uri": "https://localhost:8080/"
        },
        "id": "DLoVfmFRUar7",
        "outputId": "b68cd40a-97f7-4985-d389-7a99101c3112"
      },
      "outputs": [],
      "source": [
        "df.shape"
      ]
    },
    {
      "cell_type": "code",
      "execution_count": null,
      "metadata": {
        "colab": {
          "base_uri": "https://localhost:8080/",
          "height": 178
        },
        "id": "zo-H49WrdREK",
        "outputId": "09b946b4-8fe3-45d9-a288-4371ad7bfbc3"
      },
      "outputs": [],
      "source": [
        "df[\"diagnosis\"].value_counts()"
      ]
    },
    {
      "cell_type": "code",
      "execution_count": null,
      "metadata": {
        "colab": {
          "base_uri": "https://localhost:8080/",
          "height": 1000
        },
        "id": "gb40neASUgXM",
        "outputId": "4b8e50ae-b9d3-4856-c4d1-78a5f70e24bc"
      },
      "outputs": [],
      "source": [
        "df.isnull().sum()\n"
      ]
    },
    {
      "cell_type": "code",
      "execution_count": null,
      "metadata": {
        "id": "7W8V3VaZUmun"
      },
      "outputs": [],
      "source": [
        "#Data is already clean and filled with no missing values."
      ]
    },
    {
      "cell_type": "code",
      "execution_count": null,
      "metadata": {
        "id": "ECU4_0jTfegO"
      },
      "outputs": [],
      "source": [
        "df['diagnosis'] = df['diagnosis'].map({'M': 1, 'B': 0})"
      ]
    },
    {
      "cell_type": "code",
      "execution_count": null,
      "metadata": {
        "colab": {
          "base_uri": "https://localhost:8080/",
          "height": 273
        },
        "id": "1s5HuWftmWoj",
        "outputId": "5f6ebd21-af34-4605-f4bb-0c3dbb1ff3ac"
      },
      "outputs": [],
      "source": [
        "df.head() #mapped properly"
      ]
    },
    {
      "cell_type": "code",
      "execution_count": null,
      "metadata": {
        "id": "LBeCziAooMdb"
      },
      "outputs": [],
      "source": [
        "df = df.drop(columns=['id'])"
      ]
    },
    {
      "cell_type": "code",
      "execution_count": null,
      "metadata": {
        "id": "RXHih-iYoVEZ"
      },
      "outputs": [],
      "source": [
        "df = df.drop(columns=['Unnamed: 32'])"
      ]
    },
    {
      "cell_type": "code",
      "execution_count": null,
      "metadata": {
        "colab": {
          "base_uri": "https://localhost:8080/",
          "height": 273
        },
        "id": "1_vLlqPkoR9Z",
        "outputId": "79e752d4-9d3f-453c-dd38-f0c8119e2b79"
      },
      "outputs": [],
      "source": [
        "df.head()"
      ]
    },
    {
      "cell_type": "code",
      "execution_count": null,
      "metadata": {
        "colab": {
          "base_uri": "https://localhost:8080/",
          "height": 367
        },
        "id": "IixjGBe9olXS",
        "outputId": "61dbff72-e88d-4612-f1cf-d90c00341a36"
      },
      "outputs": [],
      "source": [
        "df.describe()"
      ]
    },
    {
      "cell_type": "code",
      "execution_count": null,
      "metadata": {
        "colab": {
          "base_uri": "https://localhost:8080/",
          "height": 178
        },
        "id": "7mnUtDgBp1R9",
        "outputId": "4cc3d695-242d-4878-f80a-cd56590ad50a"
      },
      "outputs": [],
      "source": [
        "df[\"diagnosis\"].value_counts()"
      ]
    },
    {
      "cell_type": "code",
      "execution_count": null,
      "metadata": {
        "id": "ifBtlqcfqUV4"
      },
      "outputs": [],
      "source": [
        "#1 is for Malignant, 0 is for Benign"
      ]
    },
    {
      "cell_type": "code",
      "execution_count": null,
      "metadata": {
        "colab": {
          "base_uri": "https://localhost:8080/",
          "height": 210
        },
        "id": "aQ6IOxCBqZkJ",
        "outputId": "de77cf21-0f48-4412-fd54-d7afc1a72261"
      },
      "outputs": [],
      "source": [
        "df.groupby('diagnosis').mean()"
      ]
    },
    {
      "cell_type": "code",
      "execution_count": null,
      "metadata": {
        "colab": {
          "base_uri": "https://localhost:8080/",
          "height": 1000
        },
        "id": "7aMghiwxGKi4",
        "outputId": "b0912b83-e740-4fe7-d74b-47eda6d9352c"
      },
      "outputs": [],
      "source": [
        "df.isnull().sum()\n"
      ]
    },
    {
      "cell_type": "markdown",
      "metadata": {
        "id": "tyEajD58HodZ"
      },
      "source": [
        "#Building a simple NN"
      ]
    },
    {
      "cell_type": "code",
      "execution_count": null,
      "metadata": {
        "colab": {
          "base_uri": "https://localhost:8080/",
          "height": 210
        },
        "id": "6Kk7TZBUG0eQ",
        "outputId": "0bceb5b0-9d78-4655-cba7-c66f9d324df2"
      },
      "outputs": [],
      "source": [
        "df.groupby(\"diagnosis\").mean()"
      ]
    },
    {
      "cell_type": "code",
      "execution_count": null,
      "metadata": {
        "id": "XK0RNNSZII7b"
      },
      "outputs": [],
      "source": [
        "X = df.drop(columns=\"diagnosis\", axis = 1)\n",
        "y = df[\"diagnosis\"]"
      ]
    },
    {
      "cell_type": "code",
      "execution_count": null,
      "metadata": {
        "colab": {
          "base_uri": "https://localhost:8080/"
        },
        "id": "2k1lEa-vIovI",
        "outputId": "63697644-724d-41bb-af05-f52e00f2eadf"
      },
      "outputs": [],
      "source": [
        "X.shape"
      ]
    },
    {
      "cell_type": "code",
      "execution_count": null,
      "metadata": {
        "colab": {
          "base_uri": "https://localhost:8080/"
        },
        "id": "kArKiMDcIrJj",
        "outputId": "f286299a-d730-4372-d605-3e93f16d928b"
      },
      "outputs": [],
      "source": [
        "y.shape"
      ]
    },
    {
      "cell_type": "code",
      "execution_count": null,
      "metadata": {
        "id": "xhfwcmNII3dq"
      },
      "outputs": [],
      "source": [
        "X_train, X_test, y_train, y_test = train_test_split(X,y,test_size=0.2,\n",
        "                                                    random_state=2)"
      ]
    },
    {
      "cell_type": "code",
      "execution_count": null,
      "metadata": {
        "id": "eSGjkmoZWQzo"
      },
      "outputs": [],
      "source": [
        "#STANDARDIZATION FOR BETTER ACCURACY\n",
        "from sklearn.preprocessing import StandardScaler\n"
      ]
    },
    {
      "cell_type": "code",
      "execution_count": null,
      "metadata": {
        "id": "yxOfeKvMWYww"
      },
      "outputs": [],
      "source": [
        "scaler = StandardScaler()\n",
        "X_train_std = scaler.fit_transform(X_train)\n",
        "X_test_std = scaler.transform(X_test) #donot FIT to TEST, only with TRAIN\n",
        "\n",
        "#Also, y train and ytest are categorical variables so no transform needed."
      ]
    },
    {
      "cell_type": "code",
      "execution_count": null,
      "metadata": {
        "colab": {
          "base_uri": "https://localhost:8080/"
        },
        "id": "2eoRe9hfW2vx",
        "outputId": "7af3bf12-184a-411a-fa70-dba207f8dd9a"
      },
      "outputs": [],
      "source": [
        "X_train_std"
      ]
    },
    {
      "cell_type": "markdown",
      "metadata": {
        "id": "dI_YPegsJVb7"
      },
      "source": [
        "#Neural Network"
      ]
    },
    {
      "cell_type": "markdown",
      "metadata": {
        "id": "cCwo_OBsJgLS"
      },
      "source": [
        "A NN will have multiple layers. Input layer is where we input the features, output layer is where we get output and middle layer(s) or Hidden layers can be 10 or even 100.\n",
        "![Screenshot 2025-04-14 172511.png](data:image/png;base64,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)"
      ]
    },
    {
      "cell_type": "code",
      "execution_count": null,
      "metadata": {
        "id": "HnLEME_aJ2O1"
      },
      "outputs": [],
      "source": [
        "#Importing TENSOR FLOW and KERAS for Deep Learning"
      ]
    },
    {
      "cell_type": "code",
      "execution_count": null,
      "metadata": {
        "id": "YAvzTQDnJ75J"
      },
      "outputs": [],
      "source": [
        "import tensorflow as tf\n",
        "tf.random.set_seed(3)\n",
        "\n",
        "from tensorflow import keras"
      ]
    },
    {
      "cell_type": "markdown",
      "metadata": {
        "id": "R_mRItNmLVwg"
      },
      "source": [
        "TensorFlow ensures reproducibility"
      ]
    },
    {
      "cell_type": "markdown",
      "metadata": {
        "id": "l22WdVk5LUhQ"
      },
      "source": [
        "Sets the random seed to 3. This ensures that operations involving randomness (like weight initialization, shuffling, etc.) will produce the same results every time you run the code, which is crucial for debugging or comparison."
      ]
    },
    {
      "cell_type": "code",
      "execution_count": null,
      "metadata": {
        "id": "yW4UJdoiLiP4"
      },
      "outputs": [],
      "source": [
        "#Building the 3 layers of my NN:\n",
        "#Building the 3 layers of my NN:\n",
        "\n",
        "model = keras.Sequential([\n",
        "                        keras.layers.Flatten(input_shape= (30,)), #First/Input layer. Remember to put comma after each layer\n",
        "\n",
        "                        keras.layers.Dense(20, activation='relu'), #Hidden layer 1\n",
        "\n",
        "                        #Hidden layer 2 etc.... Like this we can add more layers\n",
        "\n",
        "                        keras.layers.Dense(2, activation='sigmoid') #Output layer\n",
        "])\n"
      ]
    },
    {
      "cell_type": "markdown",
      "metadata": {
        "id": "X4DvVO5LNnVX"
      },
      "source": [
        "Now, the X train splits are basically matirces. But for NN, we need to convert them into 1D array such that each feature will go to one neuron. This is where FLATTEN is used.\n",
        "\n",
        "Why act = 20 neurons for hidden? Any is fine.\n",
        "\n",
        "Why act = 2 for output layer? Because we only have 2 classes: 1 (cancer) or 0 (no cancer)\n",
        "\n",
        "Thus, ultimately there will only be 2 neurons in the op layer."
      ]
    },
    {
      "cell_type": "code",
      "execution_count": null,
      "metadata": {
        "id": "ijaVB1_hN3Ox"
      },
      "outputs": [],
      "source": [
        "#Compiling Neural Network\n",
        "\n",
        "model.compile(optimizer='adam',\n",
        "              loss = 'sparse_categorical_crossentropy',\n",
        "              metrics = ['accuracy'])"
      ]
    },
    {
      "cell_type": "markdown",
      "metadata": {
        "id": "a3t1pVsSQ4Us"
      },
      "source": [
        "sparse_categorical_crossentropy is used when we have lables like 1, 2 or 3 or 0"
      ]
    },
    {
      "cell_type": "code",
      "execution_count": null,
      "metadata": {
        "colab": {
          "base_uri": "https://localhost:8080/"
        },
        "id": "z51bjw6-RAA5",
        "outputId": "2ce0f876-4243-4131-f7c9-1aca1b20a25c"
      },
      "outputs": [],
      "source": [
        "#TRAINING THE NN\n",
        "\n",
        "history = model.fit(X_train_std, y_train, validation_split = 0.1, epochs=10)\n",
        "#validation is like 10% data for validation. Epoch is how many times the model has to go through the data\n",
        "#after standardisation, we get Good accuracy. Now we can again play with attributes like increase neuron number from 20 etc"
      ]
    },
    {
      "cell_type": "code",
      "execution_count": null,
      "metadata": {
        "id": "nwXVhjRoRaNz"
      },
      "outputs": [],
      "source": []
    },
    {
      "cell_type": "markdown",
      "metadata": {
        "id": "CJbu_03JXyDf"
      },
      "source": [
        "VISUALISING accuracy and loss"
      ]
    },
    {
      "cell_type": "code",
      "execution_count": null,
      "metadata": {
        "colab": {
          "base_uri": "https://localhost:8080/",
          "height": 489
        },
        "id": "hXjOpw5eX0ap",
        "outputId": "b4b936e1-e416-43c7-d7f2-2f7f6a2ba02b"
      },
      "outputs": [],
      "source": [
        "import matplotlib.pyplot as plt\n",
        "\n",
        "plt.plot(history.history[\"accuracy\"])\n",
        "plt.plot(history.history[\"val_accuracy\"])\n",
        "\n",
        "plt.title(\"model accuracy\")\n",
        "plt.ylabel(\"Accuracy\")\n",
        "plt.xlabel(\"Epoch\")\n",
        "\n",
        "plt.legend([\"training data\", \"validation data\"], loc = 'lower right')"
      ]
    },
    {
      "cell_type": "code",
      "execution_count": null,
      "metadata": {
        "colab": {
          "base_uri": "https://localhost:8080/",
          "height": 489
        },
        "id": "QbygEXmQcjcj",
        "outputId": "32d8ba73-9d2d-4cea-c1e6-8450164914f1"
      },
      "outputs": [],
      "source": [
        "plt.plot(history.history[\"loss\"])\n",
        "plt.plot(history.history[\"val_loss\"])\n",
        "\n",
        "plt.title(\"model loss\")\n",
        "plt.ylabel(\"Loss\")\n",
        "plt.xlabel(\"Epoch\")\n",
        "\n",
        "plt.legend([\"training data\", \"validation data\"], loc = 'upper right')"
      ]
    },
    {
      "cell_type": "markdown",
      "metadata": {
        "id": "5ymLM0h7c3-f"
      },
      "source": [
        "Accuracy of model on test data"
      ]
    },
    {
      "cell_type": "code",
      "execution_count": null,
      "metadata": {
        "colab": {
          "base_uri": "https://localhost:8080/"
        },
        "id": "4HQ_CFxrc52B",
        "outputId": "edf845df-ce05-49aa-c562-73a5067cac2b"
      },
      "outputs": [],
      "source": [
        "loss, accuracy = model.evaluate(X_test_std, y_test)\n",
        "print(accuracy)"
      ]
    },
    {
      "cell_type": "markdown",
      "metadata": {
        "id": "WkElUC3MdjMS"
      },
      "source": [
        "#BUILD PREDICTIVE SYSTEM for NN"
      ]
    },
    {
      "cell_type": "code",
      "execution_count": null,
      "metadata": {
        "colab": {
          "base_uri": "https://localhost:8080/"
        },
        "id": "dqqDV8dqdmpo",
        "outputId": "42ddafd4-1b72-4af5-c2e8-a949a0e9a6b0"
      },
      "outputs": [],
      "source": [
        "print(X_test_std.shape)\n",
        "print(X_test_std[0])"
      ]
    },
    {
      "cell_type": "code",
      "execution_count": null,
      "metadata": {
        "colab": {
          "base_uri": "https://localhost:8080/"
        },
        "id": "F3KC0Fwqd0Wm",
        "outputId": "c0ca2406-a80d-495d-bcef-4530b4e9025e"
      },
      "outputs": [],
      "source": [
        "y_pred = model.predict(X_test_std)"
      ]
    },
    {
      "cell_type": "code",
      "execution_count": null,
      "metadata": {
        "colab": {
          "base_uri": "https://localhost:8080/"
        },
        "id": "epJkCLizd8NN",
        "outputId": "7d592474-31ab-48fe-8864-c26cc462af83"
      },
      "outputs": [],
      "source": [
        "print(y_pred.shape)\n",
        "print(y_pred[0])\n",
        "#so basically it gives probability that it is 0 or 1, not 0 or 1 itself"
      ]
    },
    {
      "cell_type": "code",
      "execution_count": null,
      "metadata": {
        "colab": {
          "base_uri": "https://localhost:8080/"
        },
        "id": "pprzI_HQeknM",
        "outputId": "8f4feb3d-e2d2-48d6-f4ce-21f934c3754c"
      },
      "outputs": [],
      "source": [
        "print(X_test_std)\n",
        "print(y_pred)"
      ]
    },
    {
      "cell_type": "code",
      "execution_count": null,
      "metadata": {
        "colab": {
          "base_uri": "https://localhost:8080/"
        },
        "id": "ffEqlBdghAGg",
        "outputId": "2e7cd712-2a6b-42f7-9e33-ccf98097ba35"
      },
      "outputs": [],
      "source": [
        "#argmax function example\n",
        "\n",
        "my_list = [10, 20, 30]\n",
        "indexofmaxvalue = np.argmax(my_list)\n",
        "print(my_list)\n",
        "print(indexofmaxvalue)\n"
      ]
    },
    {
      "cell_type": "code",
      "execution_count": null,
      "metadata": {
        "colab": {
          "base_uri": "https://localhost:8080/"
        },
        "id": "ANWhjQR7hrxf",
        "outputId": "189f1823-00fd-4946-bb9a-9abbc085962b"
      },
      "outputs": [],
      "source": [
        "#argmax function another example\n",
        "\n",
        "my_list = [0.56, 0.25, 3.0]\n",
        "indexofmaxvalue = np.argmax(my_list)\n",
        "print(my_list)\n",
        "print(indexofmaxvalue)\n"
      ]
    },
    {
      "cell_type": "code",
      "execution_count": null,
      "metadata": {
        "colab": {
          "base_uri": "https://localhost:8080/"
        },
        "id": "x0rqKH4Kg0LU",
        "outputId": "c3c81f09-c326-4775-ac00-45d8f6e38713"
      },
      "outputs": [],
      "source": [
        "y_pred_labels = [np.argmax(i) for i in y_pred]\n",
        "y_pred_labels"
      ]
    },
    {
      "cell_type": "markdown",
      "metadata": {
        "id": "u3L3nEcpiUy3"
      },
      "source": [
        "#Building the predictive system\n"
      ]
    },
    {
      "cell_type": "code",
      "execution_count": null,
      "metadata": {
        "colab": {
          "base_uri": "https://localhost:8080/"
        },
        "id": "CxZ6Bf0mib2Y",
        "outputId": "8823889e-e66a-430a-ab25-d62cf7ee725e"
      },
      "outputs": [],
      "source": [
        "input_data = (14.54,27.54,96.73,658.8,0.1139,0.1595,0.1639,0.07364,0.2303,0.07077,0.37,1.033,2.879,32.55,0.005607,0.0424,0.04741,0.0109,0.01857,0.005466,17.46,37.13,124.1,943.2,0.1678,0.6577,0.7026,0.1712,0.4218,0.1341)\n",
        "\n",
        "#change the  ip data from tuple to np.array\n",
        "input_data_as_array = np.asarray(input_data)\n",
        "\n",
        "#reshape the array as we are predicting for only one datapoint\n",
        "array_reshaped = input_data_as_array.reshape(1,-1)\n",
        "\n",
        "#transform this new input data using standard scalar\n",
        "array_std = scaler.transform(array_reshaped)\n",
        "\n",
        "#prediction\n",
        "prediction = model.predict(array_std)\n",
        "print(prediction)\n",
        "\n",
        "prediction_label= [np.argmax(prediction)]\n",
        "print(prediction_label)\n",
        "\n",
        "if(prediction_label[0] ==0):\n",
        "  print(\"The tumor is Benign\")\n",
        "else:\n",
        "  print(\"The tumor is Malignant\")"
      ]
    },
    {
      "cell_type": "code",
      "execution_count": null,
      "metadata": {
        "colab": {
          "base_uri": "https://localhost:8080/"
        },
        "id": "05pBa5R2ir8j",
        "outputId": "21157cf9-4451-4140-e3d9-f0edd4c5eabe"
      },
      "outputs": [],
      "source": [
        "input_data = (8.671,14.45,54.42,227.2,0.09138,0.04276,0,0,0.1722,0.06724,0.2204,0.7873,1.435,11.36,0.009172,0.008007,0,0,0.02711,0.003399,9.262,17.04,58.36,259.2,0.1162,0.07057,0,0,0.2592,0.07848)\n",
        "\n",
        "#change the  ip data from tuple to np.array\n",
        "input_data_as_array = np.asarray(input_data)\n",
        "\n",
        "#reshape the array as we are predicting for only one datapoint\n",
        "array_reshaped = input_data_as_array.reshape(1,-1)\n",
        "\n",
        "#transform this new input data using standard scalar\n",
        "array_std = scaler.transform(array_reshaped)\n",
        "\n",
        "#prediction\n",
        "prediction = model.predict(array_std)\n",
        "print(prediction)\n",
        "\n",
        "prediction_label= [np.argmax(prediction)]\n",
        "print(prediction_label)\n",
        "\n",
        "if(prediction_label[0] ==0):\n",
        "  print(\"The tumor is Benign\")\n",
        "else:\n",
        "  print(\"The tumor is Malignant\")"
      ]
    }
  ],
  "metadata": {
    "colab": {
      "provenance": []
    },
    "kernelspec": {
      "display_name": "base",
      "language": "python",
      "name": "python3"
    },
    "language_info": {
      "codemirror_mode": {
        "name": "ipython",
        "version": 3
      },
      "file_extension": ".py",
      "mimetype": "text/x-python",
      "name": "python",
      "nbconvert_exporter": "python",
      "pygments_lexer": "ipython3",
      "version": "3.12.3"
    }
  },
  "nbformat": 4,
  "nbformat_minor": 0
}
